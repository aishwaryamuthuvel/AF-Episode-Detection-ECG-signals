{
 "cells": [
  {
   "cell_type": "code",
   "execution_count": 1,
   "metadata": {},
   "outputs": [],
   "source": [
    "import pandas as pd \n",
    "import numpy as np\n",
    "from sklearn.model_selection import train_test_split\n",
    "from sklearn import svm\n",
    "from sklearn import neural_network\n",
    "from sklearn.tree import DecisionTreeClassifier\n",
    "from sklearn import mixture\n",
    "from sklearn import metrics \n",
    "import matplotlib.pyplot as plt\n",
    "import warnings\n",
    "warnings.filterwarnings('ignore')"
   ]
  },
  {
   "cell_type": "code",
   "execution_count": 2,
   "metadata": {},
   "outputs": [],
   "source": [
    "data = pd.read_excel('Preprocessed_AFData.xlsx')\n",
    "d = data.to_numpy()"
   ]
  },
  {
   "cell_type": "code",
   "execution_count": 3,
   "metadata": {},
   "outputs": [],
   "source": [
    "# of AF cases is 36537\n",
    "#Splitting the data of AF and non-AF\n",
    "data_p = np.zeros((36537,30))\n",
    "data_n = np.zeros(((d.shape[0]-36537),30))\n",
    "p=0;\n",
    "n=0;\n",
    "for i in range(d.shape[0]):\n",
    "    if d[i,30] == 1:\n",
    "        data_p[p,:]=d[i,0:30]\n",
    "        p+=1\n",
    "    elif d[i,30] == 0:\n",
    "        data_n[n,:]=d[i,0:30]\n",
    "        n+=1 \n",
    "y_p = np.ones((36537,1))\n",
    "y_n = np.zeros((data_n.shape[0],1)) "
   ]
  },
  {
   "cell_type": "code",
   "execution_count": 4,
   "metadata": {},
   "outputs": [],
   "source": [
    "#Creating training,validation and testing data\n",
    "train_xp, test_xp, train_yp, test_yp = train_test_split(data_p,y_p,test_size=0.2)\n",
    "\n",
    "#Since the number of non-AF data is large we are randomly selecting instances of non-AF \n",
    "#Maintaining a ratio of 0.5 between AF and non-AF data\n",
    "rdm_in = np.random.choice(data_n.shape[0],size=73200, replace = False)\n",
    "d_n = data_n[rdm_in,:]\n",
    "y_n = np.zeros((d_n.shape[0],1))\n",
    "train_xn, test_xn, train_yn, test_yn = train_test_split(d_n,y_n,test_size=0.2)\n",
    "\n",
    "train_d = np.vstack((train_xp,train_xn))\n",
    "train_y = np.vstack((train_yp,train_yn))\n",
    "\n",
    "t_d = np.vstack((test_xp,test_xn))\n",
    "t_y = np.vstack((test_yp,test_yn))\n",
    "\n",
    "valid_d, test_d, valid_y, test_y = train_test_split(t_d,t_y,test_size=0.5)"
   ]
  },
  {
   "cell_type": "code",
   "execution_count": 5,
   "metadata": {},
   "outputs": [],
   "source": [
    "def classify(model,train_d,train_y,valid_d,valid_y):\n",
    "    model.fit(train_d,train_y)\n",
    "    t_AF = 0\n",
    "    t_NAF = 0\n",
    "    f_AF = 0\n",
    "    f_NAF = 0\n",
    "    y_pred = model.predict(valid_d)\n",
    "    for i in range(len(valid_y)):\n",
    "        if valid_y[i] == 0:\n",
    "            if valid_y[i]==y_pred[i]:\n",
    "                t_NAF = t_NAF+1\n",
    "            else:\n",
    "                f_AF = f_AF+1\n",
    "        elif valid_y[i] == 1:\n",
    "            if valid_y[i] == y_pred[i]:\n",
    "                t_AF = t_AF+1\n",
    "            else:\n",
    "                f_NAF = f_NAF+1\n",
    "                \n",
    "    print(\"Confusion Matrix:\")            \n",
    "    print(\"Predicted\\Actual     AF    non-AF\")\n",
    "    print(\"AF                \",t_AF,\"    \",f_AF)\n",
    "    print(\"non-AF            \",f_NAF,\"   \",t_NAF)\n",
    "    print(\"Accuracy:\",((t_AF+t_NAF)/len(valid_y)))\n",
    "    print(\"Error Rate:\",((f_AF+f_NAF)/len(valid_y)),\"\\n\")\n",
    "    print(\"Prediction of AF\")\n",
    "    print(\"-------------------\")\n",
    "    print(\"Precision:\",(t_AF/(t_AF+f_AF)))\n",
    "    print(\"Recall:\",(t_AF/(t_AF+f_NAF)),\"\\n\")\n",
    "    print(\"Prediction of Non-AF\")\n",
    "    print(\"---------------------\")\n",
    "    print(\"Precision:\",(t_NAF/(t_NAF+f_NAF)))\n",
    "    print(\"Recall:\",(t_NAF/(t_NAF+f_AF)))"
   ]
  },
  {
   "cell_type": "markdown",
   "metadata": {},
   "source": [
    "# Neural Network"
   ]
  },
  {
   "cell_type": "code",
   "execution_count": 6,
   "metadata": {},
   "outputs": [],
   "source": [
    "def nn_activation(x_train,y_train,x_test,y_test):\n",
    "    error_rate = []\n",
    "    activation = ['logistic','tanh','relu']\n",
    "    for i in activation:\n",
    "        model = neural_network.MLPClassifier(solver='adam', alpha=1e-5,activation=i,learning_rate_init=0.001,\n",
    "                                             max_iter=20000,shuffle=True)\n",
    "        model.fit(x_train, y_train)\n",
    "        print(\"Activation Function:\",i)\n",
    "        y_pred = model.predict(x_train)\n",
    "        count=0\n",
    "        for j in range(len(y_train)):\n",
    "            if y_train[j] != y_pred[j]:\n",
    "                count = count+1\n",
    "        print(\"Error on Training data:\",(count/len(y_train)))\n",
    "        y_pred = model.predict(x_test)\n",
    "        count=0\n",
    "        for j in range(len(y_test)):\n",
    "            if y_test[j] != y_pred[j]:\n",
    "                count = count+1\n",
    "        error_rate.append((count/len(y_test)))\n",
    "        print(\"Error on Validation data:\",(count/len(y_test)))\n",
    "        \n",
    "        \n",
    "    kloc = error_rate.index(min(error_rate))\n",
    "    print(\"Lowest error is %s occurs at %s.\" % (error_rate[kloc], activation[kloc]))\n",
    "    return activation[kloc]"
   ]
  },
  {
   "cell_type": "code",
   "execution_count": 7,
   "metadata": {},
   "outputs": [],
   "source": [
    "def nn_hidden_layer(x_train,y_train,x_test,y_test):\n",
    "    error_rate = []\n",
    "    hidden_layer=[30,35,40,45,50,55,60,65,70,75,80,85,90]\n",
    "    for i in hidden_layer:\n",
    "        model = neural_network.MLPClassifier(solver='adam', alpha=1e-5,hidden_layer_sizes=i,activation='relu',\n",
    "                                             learning_rate_init=0.001,max_iter=20000,shuffle=True)\n",
    "        model.fit(x_train, y_train)\n",
    "        y_pred = model.predict(x_test)\n",
    "        count=0\n",
    "        for j in range(len(y_test)):\n",
    "            if y_test[j] != y_pred[j]:\n",
    "                count = count+1\n",
    "        error_rate.append((count/len(y_test)))\n",
    "    kloc = error_rate.index(min(error_rate))\n",
    "    print(\"Lowest error is %s occurs at hidden layer size=%s.\" % (error_rate[kloc], hidden_layer[kloc]))\n",
    "\n",
    "    plt.plot(hidden_layer, error_rate, color='blue', linestyle='dashed', marker='o',\n",
    "             markerfacecolor='red', markersize=5)\n",
    "    plt.title('Error Rate vs. Hidden Layer Size')\n",
    "    plt.xlabel('Size')\n",
    "    plt.ylabel('Error Rate')\n",
    "    plt.show()\n",
    "    return hidden_layer[kloc]"
   ]
  },
  {
   "cell_type": "code",
   "execution_count": 11,
   "metadata": {},
   "outputs": [],
   "source": [
    "def nn_hidden_layer_2(x_train,y_train,x_test,y_test):\n",
    "    error_rate = []\n",
    "    hidden_layer=[30,35,40,45,50,55,60]\n",
    "    for i in hidden_layer:\n",
    "        model = neural_network.MLPClassifier(solver='adam', alpha=1e-5,hidden_layer_sizes=(50,i),activation='relu',\n",
    "                                             learning_rate_init=0.001,max_iter=20000,shuffle=True)\n",
    "        model.fit(x_train, y_train)\n",
    "        y_pred = model.predict(x_test)\n",
    "        count=0\n",
    "        for j in range(len(y_test)):\n",
    "            if y_test[j] != y_pred[j]:\n",
    "                count = count+1\n",
    "        error_rate.append((count/len(y_test)))\n",
    "    kloc = error_rate.index(min(error_rate))\n",
    "    print(\"Lowest error is %s occurs at hidden layer size=%s.\" % (error_rate[kloc], hidden_layer[kloc]))\n",
    "\n",
    "    plt.plot(hidden_layer, error_rate, color='blue', linestyle='dashed', marker='o',\n",
    "             markerfacecolor='red', markersize=5)\n",
    "    plt.title('Error Rate vs. Hidden Layer Size')\n",
    "    plt.xlabel('Size')\n",
    "    plt.ylabel('Error Rate')\n",
    "    plt.show()\n",
    "    return hidden_layer[kloc]"
   ]
  },
  {
   "cell_type": "code",
   "execution_count": 9,
   "metadata": {},
   "outputs": [
    {
     "name": "stdout",
     "output_type": "stream",
     "text": [
      "Activation Function: logistic\n",
      "Error on Training data: 0.039367118887332124\n",
      "Error on Validation data: 0.04182613449972663\n",
      "Activation Function: tanh\n",
      "Error on Training data: 0.03763569467700965\n",
      "Error on Validation data: 0.041188263167486784\n",
      "Activation Function: relu\n",
      "Error on Training data: 0.035277768285320484\n",
      "Error on Validation data: 0.040277018407144156\n",
      "Lowest error is 0.040277018407144156 occurs at relu.\n"
     ]
    }
   ],
   "source": [
    "activation_function = nn_activation(train_d,train_y,valid_d,valid_y) #Relu"
   ]
  },
  {
   "cell_type": "code",
   "execution_count": 10,
   "metadata": {},
   "outputs": [
    {
     "name": "stdout",
     "output_type": "stream",
     "text": [
      "Lowest error is 0.04009476945507563 occurs at hidden layer size=80.\n"
     ]
    },
    {
     "data": {
      "image/png": "[encoded data removed]",
      "text/plain": [
       "<Figure size 432x288 with 1 Axes>"
      ]
     },
     "metadata": {
      "needs_background": "light"
     },
     "output_type": "display_data"
    }
   ],
   "source": [
    "hidden_layer = nn_hidden_layer(train_d,train_y,valid_d,valid_y)\n",
    "# Although the least error rate occurs at 80 the optimum hidden layer size is chosen as 50 \n",
    "#as there is no significant decrease in the error rate with additional 30 neurons"
   ]
  },
  {
   "cell_type": "code",
   "execution_count": 12,
   "metadata": {},
   "outputs": [
    {
     "name": "stdout",
     "output_type": "stream",
     "text": [
      "Lowest error is 0.0401858939311099 occurs at hidden layer size=30.\n"
     ]
    },
    {
     "data": {
      "image/png": "[encoded data removed]",
      "text/plain": [
       "<Figure size 432x288 with 1 Axes>"
      ]
     },
     "metadata": {
      "needs_background": "light"
     },
     "output_type": "display_data"
    }
   ],
   "source": [
    "hidden_layer_2 = nn_hidden_layer_2(train_d,train_y,valid_d,valid_y) #no use of second layer"
   ]
  },
  {
   "cell_type": "code",
   "execution_count": 13,
   "metadata": {},
   "outputs": [
    {
     "name": "stdout",
     "output_type": "stream",
     "text": [
      "Confusion Matrix:\n",
      "Predicted\\Actual     AF    non-AF\n",
      "AF                 3491      205\n",
      "non-AF             222     7056\n",
      "Accuracy: 0.9610898487333698\n",
      "Error Rate: 0.038910151266630215 \n",
      "\n",
      "Prediction of AF\n",
      "-------------------\n",
      "Precision: 0.9445346320346321\n",
      "Recall: 0.9402100727174791 \n",
      "\n",
      "Prediction of Non-AF\n",
      "---------------------\n",
      "Precision: 0.9694971145919209\n",
      "Recall: 0.9717669742459716\n"
     ]
    }
   ],
   "source": [
    "nn_model = neural_network.MLPClassifier(solver='adam', alpha=1e-5,hidden_layer_sizes=50,activation='relu',\n",
    "                                        learning_rate_init=0.001,max_iter=20000,shuffle=True)\n",
    "classify(nn_model,train_d,train_y,test_d,test_y)"
   ]
  },
  {
   "cell_type": "markdown",
   "metadata": {},
   "source": [
    "# SVM"
   ]
  },
  {
   "cell_type": "code",
   "execution_count": 14,
   "metadata": {},
   "outputs": [],
   "source": [
    "def svm_kernel(x_train,y_train,x_test,y_test):\n",
    "    rate=[]\n",
    "    kernel=['rbf','poly','linear','sigmoid']\n",
    "    for i in kernel:\n",
    "        model=svm.SVC(kernel=i).fit(x_train,y_train)\n",
    "        y_pred=model.predict(x_train)\n",
    "        print(\"Kernel:\",i)\n",
    "        print('Training data accuracy:', metrics.accuracy_score(y_train,y_pred))\n",
    "        y_pred=model.predict(x_test)\n",
    "        print('Validation data accuracy: ', metrics.accuracy_score(y_test,y_pred),'\\n')\n",
    "        rate.append(metrics.accuracy_score(y_test,y_pred))\n",
    "    nloc = rate.index(max(rate))\n",
    "    print(\"Highest accuracy is %s occurs at %s kernel.\" % (rate[nloc], kernel[nloc]))\n",
    "    return kernel[nloc]"
   ]
  },
  {
   "cell_type": "code",
   "execution_count": 15,
   "metadata": {},
   "outputs": [
    {
     "name": "stdout",
     "output_type": "stream",
     "text": [
      "Kernel: rbf\n",
      "Training data accuracy: 0.948376220255385\n",
      "Validation data accuracy:  0.946965554948059 \n",
      "\n",
      "Kernel: poly\n",
      "Training data accuracy: 0.6670539589242388\n",
      "Validation data accuracy:  0.6724075086568252 \n",
      "\n",
      "Kernel: linear\n",
      "Training data accuracy: 0.933750242057661\n",
      "Validation data accuracy:  0.9360306178239475 \n",
      "\n",
      "Kernel: sigmoid\n",
      "Training data accuracy: 0.9204797867614394\n",
      "Validation data accuracy:  0.9243666848915618 \n",
      "\n",
      "Highest accuracy is 0.946965554948059 occurs at rbf kernel.\n"
     ]
    }
   ],
   "source": [
    "k=svm_kernel(train_d,train_y,valid_d,valid_y)"
   ]
  },
  {
   "cell_type": "code",
   "execution_count": 16,
   "metadata": {},
   "outputs": [
    {
     "name": "stdout",
     "output_type": "stream",
     "text": [
      "Confusion Matrix:\n",
      "Predicted\\Actual     AF    non-AF\n",
      "AF                 3391      228\n",
      "non-AF             322     7033\n",
      "Accuracy: 0.9498815381811555\n",
      "Error Rate: 0.050118461818844544 \n",
      "\n",
      "Prediction of AF\n",
      "-------------------\n",
      "Precision: 0.9369991710417243\n",
      "Recall: 0.9132776730406679 \n",
      "\n",
      "Prediction of Non-AF\n",
      "---------------------\n",
      "Precision: 0.9562202583276682\n",
      "Recall: 0.9685993664784465\n"
     ]
    }
   ],
   "source": [
    "svm_model = svm.SVC(kernel='rbf')\n",
    "classify(svm_model,train_d,train_y,test_d,test_y)"
   ]
  },
  {
   "cell_type": "markdown",
   "metadata": {},
   "source": [
    "# Decision Tree"
   ]
  },
  {
   "cell_type": "code",
   "execution_count": 36,
   "metadata": {},
   "outputs": [
    {
     "name": "stdout",
     "output_type": "stream",
     "text": [
      "[86.40490266 89.61145474 90.62183189 92.18239187 93.04468669 93.61081684\n",
      " 94.24643179 94.82509198 95.32059825 95.71586417 96.0872091  96.35717459\n",
      " 96.59410632 96.80939525 96.94494754 97.08163893 97.20693937 97.29351058\n",
      " 97.38235998 97.44614929]\n",
      "[86.03973027 89.00127574 90.20411883 92.09950793 92.81027884 93.48459996\n",
      " 93.97667213 94.14980864 94.65099326 94.89702934 94.99726627 94.96992892\n",
      " 95.01549116 95.0428285  95.00637871 94.89702934 94.84235466 94.91525424\n",
      " 94.82412976 94.80590487]\n"
     ]
    },
    {
     "data": {
      "text/plain": [
       "Text(0, 0.5, 'Accuracy [%]')"
      ]
     },
     "execution_count": 36,
     "metadata": {},
     "output_type": "execute_result"
    },
    {
     "data": {
      "image/png": "[encoded data removed]",
      "text/plain": [
       "<Figure size 432x288 with 1 Axes>"
      ]
     },
     "metadata": {
      "needs_background": "light"
     },
     "output_type": "display_data"
    }
   ],
   "source": [
    "acc_train=[]\n",
    "acc_test=[]\n",
    "i=1\n",
    "while i<=20:\n",
    "    clf = DecisionTreeClassifier(max_depth=i)\n",
    "    clf = clf.fit(train_d,train_y)\n",
    "    acc_train.append(clf.score(train_d,train_y)*100)\n",
    "    acc_test.append(clf.score(valid_d,valid_y)*100)\n",
    "    i+=1\n",
    "    \n",
    "print(np.array(acc_train))\n",
    "print(np.array(acc_test))\n",
    "\n",
    "plt.plot(np.arange(1,21),acc_test, color='blue', linestyle='dashed', marker='o',\n",
    "             markerfacecolor='red', markersize=5)\n",
    "plt.xlabel('Max Depth [#]')\n",
    "plt.ylabel('Accuracy [%]')"
   ]
  },
  {
   "cell_type": "code",
   "execution_count": 17,
   "metadata": {},
   "outputs": [
    {
     "name": "stdout",
     "output_type": "stream",
     "text": [
      "Confusion Matrix:\n",
      "Predicted\\Actual     AF    non-AF\n",
      "AF                 3411      238\n",
      "non-AF             302     7023\n",
      "Accuracy: 0.950792782941498\n",
      "Error Rate: 0.049207217058501916 \n",
      "\n",
      "Prediction of AF\n",
      "-------------------\n",
      "Precision: 0.9347766511372979\n",
      "Recall: 0.9186641529760302 \n",
      "\n",
      "Prediction of Non-AF\n",
      "---------------------\n",
      "Precision: 0.9587713310580205\n",
      "Recall: 0.9672221457099573\n"
     ]
    }
   ],
   "source": [
    "dm_model = DecisionTreeClassifier(max_depth=14)\n",
    "classify(dm_model,train_d,train_y,test_d,test_y)"
   ]
  },
  {
   "cell_type": "markdown",
   "metadata": {},
   "source": [
    "# Feature selection using (Gini) impurity measures"
   ]
  },
  {
   "cell_type": "code",
   "execution_count": 20,
   "metadata": {},
   "outputs": [
    {
     "name": "stdout",
     "output_type": "stream",
     "text": [
      "Features in descending order of Gini index:\n",
      "[ 3  2  4  1 12  7  6 11  5  8  9 10 13 15 14 16 17  0 18 24 20 19 25 22\n",
      " 21 27 23 26 28 29] \n",
      "\n",
      "Corresponding Gini Indexes:\n",
      "[5.60562990e-01 1.31988349e-01 8.40688008e-02 4.13101487e-02\n",
      " 2.90557705e-02 2.30806569e-02 2.00948426e-02 1.97566098e-02\n",
      " 1.89815251e-02 1.66882620e-02 1.35305537e-02 1.25150250e-02\n",
      " 7.30298969e-03 5.63136661e-03 5.00342946e-03 3.78622536e-03\n",
      " 2.43634325e-03 2.20413958e-03 4.15275822e-04 4.06370153e-04\n",
      " 3.17032206e-04 2.14041920e-04 1.74018743e-04 1.32756913e-04\n",
      " 1.29470012e-04 9.99480346e-05 5.80335851e-05 5.50244362e-05\n",
      " 0.00000000e+00 0.00000000e+00]\n"
     ]
    }
   ],
   "source": [
    "features = dm_model.feature_importances_\n",
    "top_features_index = np.argsort(features)[::-1]\n",
    "\n",
    "print(\"Features in descending order of Gini index:\")\n",
    "print(top_features_index,\"\\n\")\n",
    "print(\"Corresponding Gini Indexes:\")\n",
    "print(features[top_features_index])"
   ]
  },
  {
   "cell_type": "markdown",
   "metadata": {},
   "source": [
    "# Training Decision tree model using the top features"
   ]
  },
  {
   "cell_type": "code",
   "execution_count": 39,
   "metadata": {},
   "outputs": [
    {
     "name": "stdout",
     "output_type": "stream",
     "text": [
      "[ 56.05629898  69.25513393  77.662014    81.79302887  84.69860592\n",
      "  87.00667161  89.01615586  90.99181684  92.88996935  94.55879555\n",
      "  95.91185092  97.16335342  97.89365239  98.45678905  98.957132\n",
      "  99.33575453  99.57938886  99.79980282  99.8413304   99.88196742\n",
      "  99.91367064  99.93507483  99.9524767   99.96575239  99.97869939\n",
      "  99.9886942   99.99449756 100.         100.         100.        ]\n"
     ]
    },
    {
     "data": {
      "text/plain": [
       "Text(0, 0.5, 'Cummulative V')"
      ]
     },
     "execution_count": 39,
     "metadata": {},
     "output_type": "execute_result"
    },
    {
     "data": {
      "image/png": "[encoded data removed]",
      "text/plain": [
       "<Figure size 432x288 with 1 Axes>"
      ]
     },
     "metadata": {
      "needs_background": "light"
     },
     "output_type": "display_data"
    }
   ],
   "source": [
    "cumulative = np.zeros(features.shape)\n",
    "s = 0;\n",
    "for i in range(features.shape[0]):\n",
    "    s = s + features[top_features_index[i]]\n",
    "    cumulative[i] = s*100/sum(features)\n",
    "print(cumulative)\n",
    "plt.plot(np.arange(1,features.shape[0]+1),cumulative,color='blue', linestyle='dashed', marker='o',\n",
    "             markerfacecolor='red', markersize=5)\n",
    "plt.xlabel('Number of features taken into consideration (m)')\n",
    "plt.ylabel('Cummulative V')"
   ]
  },
  {
   "cell_type": "code",
   "execution_count": 24,
   "metadata": {},
   "outputs": [],
   "source": [
    "#Selecting features that contribute to 99% \n",
    "train_tf = train_d[:,top_features_index[0:15]]\n",
    "valid_tf = valid_d[:,top_features_index[0:15]]\n",
    "test_tf = test_d[:,top_features_index[0:15]]"
   ]
  },
  {
   "cell_type": "code",
   "execution_count": 25,
   "metadata": {},
   "outputs": [
    {
     "name": "stdout",
     "output_type": "stream",
     "text": [
      "[86.44932736 89.54083086 90.56487715 92.11746346 93.01620932 93.63815512\n",
      " 94.22478898 94.83420474 95.38210938 95.75687159 96.12138195 96.37426101\n",
      " 96.58499356 96.75927508 96.94608664 97.08619531 97.21035665 97.32654433\n",
      " 97.41197644 97.48146123]\n",
      "[86.51357755 89.74849645 90.72352834 92.50045562 93.11098961 93.49371241\n",
      " 93.7397485  94.2956078  94.30472025 94.40495717 94.36850738 94.57809368\n",
      " 94.63276836 94.6783306  94.43229451 94.62365591 94.54164389 94.49608165\n",
      " 94.4687443  94.41406962]\n"
     ]
    },
    {
     "data": {
      "text/plain": [
       "Text(0, 0.5, 'Accuracy [%]')"
      ]
     },
     "execution_count": 25,
     "metadata": {},
     "output_type": "execute_result"
    },
    {
     "data": {
      "image/png": "[encoded data removed]",
      "text/plain": [
       "<Figure size 432x288 with 1 Axes>"
      ]
     },
     "metadata": {
      "needs_background": "light"
     },
     "output_type": "display_data"
    }
   ],
   "source": [
    "acc_train=[]\n",
    "acc_test=[]\n",
    "i=1\n",
    "while i<=20:\n",
    "    clf = DecisionTreeClassifier(max_depth=i)\n",
    "    clf = clf.fit(train_tf,train_y)\n",
    "    acc_train.append(clf.score(train_tf,train_y)*100)\n",
    "    acc_test.append(clf.score(valid_tf,valid_y)*100)\n",
    "    i+=1\n",
    "    \n",
    "print(np.array(acc_train))\n",
    "print(np.array(acc_test))\n",
    "\n",
    "plt.plot(np.arange(1,21),acc_test, color='blue', linestyle='dashed', marker='o',\n",
    "             markerfacecolor='red', markersize=5)\n",
    "plt.xlabel('Max Depth [#]')\n",
    "plt.ylabel('Accuracy [%]')"
   ]
  },
  {
   "cell_type": "code",
   "execution_count": 26,
   "metadata": {},
   "outputs": [
    {
     "name": "stdout",
     "output_type": "stream",
     "text": [
      "Confusion Matrix:\n",
      "Predicted\\Actual     AF    non-AF\n",
      "AF                 3401      239\n",
      "non-AF             312     7022\n",
      "Accuracy: 0.9497904137051212\n",
      "Error Rate: 0.0502095862948788 \n",
      "\n",
      "Prediction of AF\n",
      "-------------------\n",
      "Precision: 0.9343406593406594\n",
      "Recall: 0.9159709130083491 \n",
      "\n",
      "Prediction of Non-AF\n",
      "---------------------\n",
      "Precision: 0.9574584128715571\n",
      "Recall: 0.9670844236331084\n"
     ]
    }
   ],
   "source": [
    "dm_model = DecisionTreeClassifier(max_depth=14)\n",
    "classify(dm_model,train_tf,train_y,test_tf,test_y)"
   ]
  },
  {
   "cell_type": "code",
   "execution_count": 27,
   "metadata": {},
   "outputs": [],
   "source": [
    "##Selecting features that contribute to 95% \n",
    "train_tf1 = train_d[:,top_features_index[0:10]]\n",
    "valid_tf1 = valid_d[:,top_features_index[0:10]]\n",
    "test_tf1 = test_d[:,top_features_index[0:10]]"
   ]
  },
  {
   "cell_type": "code",
   "execution_count": 28,
   "metadata": {},
   "outputs": [
    {
     "name": "stdout",
     "output_type": "stream",
     "text": [
      "[86.44932736 89.54083086 90.56487715 92.11632437 92.98317557 93.61537322\n",
      " 94.1325223  94.63600223 95.05291096 95.38894395 95.66118762 95.9322922\n",
      " 96.15099842 96.37198282 96.57815899 96.77863969 96.93127841 97.10214264\n",
      " 97.23883402 97.36185627]\n",
      "[86.51357755 89.74849645 90.72352834 92.46400583 93.08365227 93.40258794\n",
      " 93.68507381 94.02223437 94.02223437 94.09513395 94.09513395 94.25004556\n",
      " 94.14980864 94.01312192 93.99489703 93.94933479 93.85821032 93.81264808\n",
      " 93.85821032 93.70329871]\n"
     ]
    },
    {
     "data": {
      "text/plain": [
       "Text(0, 0.5, 'Accuracy [%]')"
      ]
     },
     "execution_count": 28,
     "metadata": {},
     "output_type": "execute_result"
    },
    {
     "data": {
      "image/png": "[encoded data removed]",
      "text/plain": [
       "<Figure size 432x288 with 1 Axes>"
      ]
     },
     "metadata": {
      "needs_background": "light"
     },
     "output_type": "display_data"
    }
   ],
   "source": [
    "acc_train=[]\n",
    "acc_test=[]\n",
    "i=1\n",
    "while i<=20:\n",
    "    clf = DecisionTreeClassifier(max_depth=i)\n",
    "    clf = clf.fit(train_tf1,train_y)\n",
    "    acc_train.append(clf.score(train_tf1,train_y)*100)\n",
    "    acc_test.append(clf.score(valid_tf1,valid_y)*100)\n",
    "    i+=1\n",
    "    \n",
    "print(np.array(acc_train))\n",
    "print(np.array(acc_test))\n",
    "\n",
    "plt.plot(np.arange(1,21),acc_test, color='blue', linestyle='dashed', marker='o',\n",
    "             markerfacecolor='red', markersize=5)\n",
    "plt.xlabel('Max Depth [#]')\n",
    "plt.ylabel('Accuracy [%]')"
   ]
  },
  {
   "cell_type": "code",
   "execution_count": 29,
   "metadata": {},
   "outputs": [
    {
     "name": "stdout",
     "output_type": "stream",
     "text": [
      "Confusion Matrix:\n",
      "Predicted\\Actual     AF    non-AF\n",
      "AF                 3403      291\n",
      "non-AF             310     6970\n",
      "Accuracy: 0.945234189903408\n",
      "Error Rate: 0.05476581009659195 \n",
      "\n",
      "Prediction of AF\n",
      "-------------------\n",
      "Precision: 0.92122360584732\n",
      "Recall: 0.9165095610018853 \n",
      "\n",
      "Prediction of Non-AF\n",
      "---------------------\n",
      "Precision: 0.9574175824175825\n",
      "Recall: 0.9599228756369647\n"
     ]
    }
   ],
   "source": [
    "dm_model = DecisionTreeClassifier(max_depth=12)\n",
    "classify(dm_model,train_tf1,train_y,test_tf1,test_y)"
   ]
  },
  {
   "cell_type": "code",
   "execution_count": 30,
   "metadata": {},
   "outputs": [],
   "source": [
    "##Selecting features that contribute to 90% \n",
    "train_tf2 = train_d[:,top_features_index[0:7]]\n",
    "valid_tf2 = valid_d[:,top_features_index[0:7]]\n",
    "test_tf2 = test_d[:,top_features_index[0:7]]"
   ]
  },
  {
   "cell_type": "code",
   "execution_count": 31,
   "metadata": {},
   "outputs": [
    {
     "name": "stdout",
     "output_type": "stream",
     "text": [
      "[86.44932736 89.54083086 90.5318434  91.86800169 92.62777797 93.41261434\n",
      " 93.71675267 94.16327786 94.43779972 94.71687797 95.00392988 95.23060976\n",
      " 95.50854891 95.72497693 95.96076957 96.23870872 96.45513675 96.63511374\n",
      " 96.83445534 96.98709406]\n",
      "[86.51357755 89.74849645 90.70530344 92.10862038 92.68270457 93.15655185\n",
      " 93.31146346 93.44815017 93.60306178 93.63039913 93.66684892 93.5301622\n",
      " 93.44815017 93.36613814 93.49371241 93.29323856 93.34791325 93.23856388\n",
      " 93.10187716 92.81027884]\n"
     ]
    },
    {
     "data": {
      "text/plain": [
       "Text(0, 0.5, 'Accuracy [%]')"
      ]
     },
     "execution_count": 31,
     "metadata": {},
     "output_type": "execute_result"
    },
    {
     "data": {
      "image/png": "[encoded data removed]",
      "text/plain": [
       "<Figure size 432x288 with 1 Axes>"
      ]
     },
     "metadata": {
      "needs_background": "light"
     },
     "output_type": "display_data"
    }
   ],
   "source": [
    "acc_train=[]\n",
    "acc_test=[]\n",
    "i=1\n",
    "while i<=20:\n",
    "    clf = DecisionTreeClassifier(max_depth=i)\n",
    "    clf = clf.fit(train_tf2,train_y)\n",
    "    acc_train.append(clf.score(train_tf2,train_y)*100)\n",
    "    acc_test.append(clf.score(valid_tf2,valid_y)*100)\n",
    "    i+=1\n",
    "    \n",
    "print(np.array(acc_train))\n",
    "print(np.array(acc_test))\n",
    "\n",
    "plt.plot(np.arange(1,21),acc_test, color='blue', linestyle='dashed', marker='o',\n",
    "             markerfacecolor='red', markersize=5)\n",
    "plt.xlabel('Max Depth [#]')\n",
    "plt.ylabel('Accuracy [%]')"
   ]
  },
  {
   "cell_type": "code",
   "execution_count": 32,
   "metadata": {},
   "outputs": [
    {
     "name": "stdout",
     "output_type": "stream",
     "text": [
      "Confusion Matrix:\n",
      "Predicted\\Actual     AF    non-AF\n",
      "AF                 3367      316\n",
      "non-AF             346     6945\n",
      "Accuracy: 0.939675596865318\n",
      "Error Rate: 0.06032440313468197 \n",
      "\n",
      "Prediction of AF\n",
      "-------------------\n",
      "Precision: 0.9142003801248981\n",
      "Recall: 0.9068138971182332 \n",
      "\n",
      "Prediction of Non-AF\n",
      "---------------------\n",
      "Precision: 0.9525442326155534\n",
      "Recall: 0.9564798237157416\n"
     ]
    }
   ],
   "source": [
    "dm_model = DecisionTreeClassifier(max_depth=11)\n",
    "classify(dm_model,train_tf2,train_y,test_tf2,test_y)"
   ]
  }
 ],
 "metadata": {
  "kernelspec": {
   "display_name": "Python 3",
   "language": "python",
   "name": "python3"
  },
  "language_info": {
   "codemirror_mode": {
    "name": "ipython",
    "version": 3
   },
   "file_extension": ".py",
   "mimetype": "text/x-python",
   "name": "python",
   "nbconvert_exporter": "python",
   "pygments_lexer": "ipython3",
   "version": "3.7.3"
  }
 },
 "nbformat": 4,
 "nbformat_minor": 2
}
